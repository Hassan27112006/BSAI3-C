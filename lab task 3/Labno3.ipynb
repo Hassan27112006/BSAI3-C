{
 "cells": [
  {
   "cell_type": "code",
   "execution_count": 5,
   "id": "e8991b45",
   "metadata": {},
   "outputs": [
    {
     "name": "stdout",
     "output_type": "stream",
     "text": [
      "Living Room: 24°C - No change (AC stays ON)\n",
      "Bedroom: 20°C - No change (AC stays OFF)\n",
      "Kitchen: 27°C - No change (AC stays ON)\n",
      "Office: 22°C - No change (AC stays OFF)\n"
     ]
    }
   ],
   "source": [
    "class AC3:\n",
    "    def __init__(self, temp, log_file=\"ac_log3.txt\"):\n",
    "\n",
    "        self.temp = temp\n",
    "\n",
    "        self.log_file = log_file\n",
    "\n",
    "        self.last_action = None\n",
    "\n",
    "\n",
    "        with open(self.log_file, \"w\") as f:\n",
    "            f.write(\"Room\\tTemp\\tAction\\n\")\n",
    "\n",
    "    def actuators(self, room, c_temp):\n",
    "   \n",
    "        action = \"AC is ON\" if c_temp > self.temp else \"AC is OFF\"\n",
    "\n",
    "        self.last_action = action\n",
    "        result = (f\"{room}: {c_temp}°C - {action}\"\n",
    "                  if action != self.last_action\n",
    "                  else f\"{room}: {c_temp}°C - No change (AC stays {action.split()[-1]})\")\n",
    "\n",
    "        \n",
    "        print(result)\n",
    "        with open(self.log_file, \"a\") as f:\n",
    "            f.write(result + \"\\n\")\n",
    "\n",
    "\n",
    "room = {\n",
    "    \"Living Room\": 24,\n",
    "    \"Bedroom\": 20,\n",
    "    \"Kitchen\": 27,\n",
    "    \"Office\": 22\n",
    "}\n",
    "\n",
    "ac3 = AC3(22)\n",
    "for r, t in room.items():\n",
    "    ac3.actuators(r, t)"
   ]
  }
 ],
 "metadata": {
  "kernelspec": {
   "display_name": "base",
   "language": "python",
   "name": "python3"
  },
  "language_info": {
   "codemirror_mode": {
    "name": "ipython",
    "version": 3
   },
   "file_extension": ".py",
   "mimetype": "text/x-python",
   "name": "python",
   "nbconvert_exporter": "python",
   "pygments_lexer": "ipython3",
   "version": "3.12.7"
  }
 },
 "nbformat": 4,
 "nbformat_minor": 5
}
