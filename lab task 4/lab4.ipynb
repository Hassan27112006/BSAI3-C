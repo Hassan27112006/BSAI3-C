{
 "cells": [
  {
   "cell_type": "code",
   "execution_count": 1,
   "id": "cccccd38",
   "metadata": {},
   "outputs": [
    {
     "name": "stdout",
     "output_type": "stream",
     "text": [
      "Kch bhe   kuch  bhe \n"
     ]
    }
   ],
   "source": [
    "def remove_special_characters(s=\"Kch bhe; :kuch, bhe!\"):\n",
    "    result = \"\"\n",
    "    for char in s:\n",
    "        if char.isalnum() or char == \" \": \n",
    "            result += char\n",
    "        else:\n",
    "            result += \" \"  \n",
    "    return result\n",
    "\n",
    "print(remove_special_characters())\n"
   ]
  },
  {
   "cell_type": "code",
   "execution_count": 2,
   "id": "f025a814",
   "metadata": {},
   "outputs": [
    {
     "name": "stdout",
     "output_type": "stream",
     "text": [
      "Words sorted: Abuzar My is name\n",
      "Characters sorted: AMaabeimnrsuyz\n"
     ]
    }
   ],
   "source": [
    "Name = \"My name is Abuzar\"\n",
    "\n",
    "\n",
    "words_sorted = \" \".join(sorted(Name.split(), key=lambda w: ord(w[0])))\n",
    "\n",
    "\n",
    "chars_sorted = \"\".join(sorted(Name.replace(\" \", \"\"), key=ord))\n",
    "\n",
    "print(\"Words sorted:\", words_sorted)\n",
    "print(\"Characters sorted:\", chars_sorted)"
   ]
  },
  {
   "cell_type": "code",
   "execution_count": 3,
   "id": "0dcc1dca",
   "metadata": {},
   "outputs": [
    {
     "name": "stdout",
     "output_type": "stream",
     "text": [
      "Invalid\n"
     ]
    }
   ],
   "source": [
    "def luhn_check(number: str) -> bool:\n",
    "    number = number.replace(\" \", \"\")\n",
    "    total = 0\n",
    "    reverse_digits = number[::-1]\n",
    "\n",
    "    for i, ch in enumerate(reverse_digits):\n",
    "        d = int(ch)\n",
    "        if i % 2 == 1:\n",
    "            d *= 2\n",
    "            if d > 9:\n",
    "                d -= 9\n",
    "        total += d\n",
    "\n",
    "    return total % 10 == 0\n",
    "\n",
    "\n",
    "n = input(\"Enter card number \")\n",
    "if luhn_check(n):\n",
    "    print(\"Valid\")\n",
    "else:\n",
    "    print(\"Invalid\")"
   ]
  }
 ],
 "metadata": {
  "kernelspec": {
   "display_name": "base",
   "language": "python",
   "name": "python3"
  },
  "language_info": {
   "codemirror_mode": {
    "name": "ipython",
    "version": 3
   },
   "file_extension": ".py",
   "mimetype": "text/x-python",
   "name": "python",
   "nbconvert_exporter": "python",
   "pygments_lexer": "ipython3",
   "version": "3.12.7"
  }
 },
 "nbformat": 4,
 "nbformat_minor": 5
}
