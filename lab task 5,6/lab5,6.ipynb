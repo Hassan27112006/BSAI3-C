{
 "cells": [
  {
   "cell_type": "markdown",
   "id": "631d79cb",
   "metadata": {},
   "source": [
    "#### lab 5"
   ]
  },
  {
   "cell_type": "code",
   "execution_count": 1,
   "id": "a1bd69b4",
   "metadata": {},
   "outputs": [
    {
     "name": "stdout",
     "output_type": "stream",
     "text": [
      "DFS without stack:\n",
      "A B D E C F "
     ]
    }
   ],
   "source": [
    "graph = {\n",
    "    'A': ['B', 'C'],\n",
    "    'B': ['D', 'E'],\n",
    "    'C': ['F'],\n",
    "    'D': [],\n",
    "    'E': [],\n",
    "    'F': []\n",
    "}\n",
    "\n",
    "def dfs_no_stack(graph, node, v=None):\n",
    "    if v is None:\n",
    "        v = []\n",
    "    if node not in v:\n",
    "        print(node, end=\" \")\n",
    "        v.append(node)\n",
    "        for x in graph[node]:\n",
    "            dfs_no_stack(graph, x, v)\n",
    "\n",
    "print(\"DFS without stack:\")\n",
    "dfs_no_stack(graph, 'A')"
   ]
  },
  {
   "cell_type": "code",
   "execution_count": 2,
   "id": "bbd9b942",
   "metadata": {},
   "outputs": [
    {
     "name": "stdout",
     "output_type": "stream",
     "text": [
      "\n",
      "DFS with stack:\n",
      "A B D E C F "
     ]
    }
   ],
   "source": [
    "graph = {\n",
    "    'A': ['B', 'C'],\n",
    "    'B': ['D', 'E'],\n",
    "    'C': ['F'],\n",
    "    'D': [],\n",
    "    'E': [],\n",
    "    'F': []\n",
    "}\n",
    "def dfs_stack(graph, s):\n",
    "    v = []\n",
    "    stack = [s]\n",
    "\n",
    "    while stack:\n",
    "        node = stack.pop()\n",
    "        if node not in v:\n",
    "            print(node, end=\" \")\n",
    "            v.append(node)\n",
    "            for x in reversed(graph[node]):\n",
    "                stack.append(x)\n",
    "\n",
    "print(\"\\nDFS with stack:\")\n",
    "dfs_stack(graph, 'A')"
   ]
  },
  {
   "cell_type": "markdown",
   "id": "c0e23564",
   "metadata": {},
   "source": [
    "### lab 6"
   ]
  },
  {
   "cell_type": "code",
   "execution_count": 4,
   "id": "3ac72b8b",
   "metadata": {},
   "outputs": [
    {
     "name": "stdout",
     "output_type": "stream",
     "text": [
      "Graph 1 BFS (No Queue):\n",
      "A B C D E F "
     ]
    }
   ],
   "source": [
    "graph = {\n",
    "    'A': ['B', 'C'],\n",
    "    'B': ['D', 'E'],\n",
    "    'C': ['F'],\n",
    "    'D': [],\n",
    "    'E': [],\n",
    "    'F': []\n",
    "}\n",
    "\n",
    "def bfs_no_queue(graph, nodes, vis=None):\n",
    "    if vis is None:\n",
    "        vis = []\n",
    "    if not nodes:\n",
    "        return\n",
    "    nxt = []\n",
    "    for n in nodes:\n",
    "        if n not in vis:\n",
    "            print(n, end=\" \")\n",
    "            vis.append(n)\n",
    "            nxt.extend(graph[n])\n",
    "    bfs_no_queue(graph, nxt, vis)\n",
    "\n",
    "print(\"Graph 1 BFS (No Queue):\")\n",
    "bfs_no_queue(graph, ['A'])\n"
   ]
  },
  {
   "cell_type": "code",
   "execution_count": 5,
   "id": "04e7e485",
   "metadata": {},
   "outputs": [
    {
     "name": "stdout",
     "output_type": "stream",
     "text": [
      "Graph 2 BFS (With Queue):\n",
      "1 2 3 4 5 6 "
     ]
    }
   ],
   "source": [
    "graph = {\n",
    "    '1': ['2', '3'],\n",
    "    '2': ['4'],\n",
    "    '3': ['5', '6'],\n",
    "    '4': [],\n",
    "    '5': [],\n",
    "    '6': []\n",
    "}\n",
    "\n",
    "#with queue\n",
    "def bfs_queue(g, start):\n",
    "    vis = []\n",
    "    queue = [start]\n",
    "\n",
    "    while queue:\n",
    "        n = queue.pop(0)\n",
    "        if n not in vis:\n",
    "            print(n, end=\" \")\n",
    "            vis.append(n)\n",
    "            queue.extend(graph[n])\n",
    "\n",
    "print(\"Graph 2 BFS (With Queue):\")\n",
    "bfs_queue(graph, '1')"
   ]
  }
 ],
 "metadata": {
  "kernelspec": {
   "display_name": "base",
   "language": "python",
   "name": "python3"
  },
  "language_info": {
   "codemirror_mode": {
    "name": "ipython",
    "version": 3
   },
   "file_extension": ".py",
   "mimetype": "text/x-python",
   "name": "python",
   "nbconvert_exporter": "python",
   "pygments_lexer": "ipython3",
   "version": "3.12.7"
  }
 },
 "nbformat": 4,
 "nbformat_minor": 5
}
