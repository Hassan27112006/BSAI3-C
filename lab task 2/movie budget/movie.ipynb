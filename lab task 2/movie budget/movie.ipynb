{
 "cells": [
  {
   "cell_type": "code",
   "execution_count": null,
   "id": "a56db79d",
   "metadata": {
    "vscode": {
     "languageId": "plaintext"
    }
   },
   "outputs": [],
   "source": [
    "movies = [\n",
    "    (\"Eternal Sunshine of the Spotless Mind\", 20000000),\n",
    "    (\"Memento\", 9000000),\n",
    "    (\"Requiem for a Dream\", 4500000),\n",
    "    (\"Pirates of the Caribbean: On Stranger Tides\", 379000000),\n",
    "    (\"Avengers: Age of Ultron\", 365000000),\n",
    "    (\"Avengers: Endgame\", 356000000),\n",
    "    (\"Incredibles 2\", 200000000)\n",
    "]\n",
    "\n",
    "add_more = input(\"Do you want to add more movies? (yes/no): \").lower()\n",
    "if add_more == \"yes\":\n",
    "    count = int(input(\"How many movies do you want to add? \"))\n",
    "\n",
    "    for i in range(count):\n",
    "        print(f\"\\nEnter details for movie {i+1}:\")\n",
    "        name = input(\"Movie name: \")\n",
    "        budget = int(input(\"Movie budget (in dollars): \"))\n",
    "        movies.append((name, budget))\n",
    "total_budget = 0\n",
    "for movie in movies:\n",
    "    total_budget += movie[1]\n",
    "average_budget = total_budget / len(movies)\n",
    "count_high = 0\n",
    "for name, budget in movies:\n",
    "    if budget > average_budget:\n",
    "        difference = budget - average_budget\n",
    "        print(f\"{name} → ${budget:,} (Higher by ${difference:,.2f})\")\n",
    "        count_high += 1\n",
    "\n",
    "print(f\"Total movies above average budget: {count_high}\")\n",
    "\n"
   ]
  }
 ],
 "metadata": {
  "language_info": {
   "name": "python"
  }
 },
 "nbformat": 4,
 "nbformat_minor": 5
}
